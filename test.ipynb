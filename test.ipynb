{
 "cells": [
  {
   "cell_type": "code",
   "execution_count": 1,
   "metadata": {},
   "outputs": [
    {
     "data": {
      "text/plain": [
       "['axon', 'background', 'blood_vessel', 'cell_body']"
      ]
     },
     "execution_count": 1,
     "metadata": {},
     "output_type": "execute_result"
    }
   ],
   "source": [
    "import h5py    \n",
    "import numpy as np    \n",
    "from scipy import ndimage\n",
    "import nrrd\n",
    "\n",
    "filename = 'fullvol_pixels_maps/volume_fullvol_pixels_maps.h5'\n",
    "f = h5py.File(filename, 'r')\n",
    "# List all groups\n",
    "list(f.keys())\n"
   ]
  },
  {
   "cell_type": "code",
   "execution_count": 2,
   "metadata": {},
   "outputs": [
    {
     "name": "stdout",
     "output_type": "stream",
     "text": [
      "Finished with axons\n",
      "Finished with cells\n",
      "Finished with background\n"
     ]
    }
   ],
   "source": [
    "# axons\n",
    "a_group_key = list(f.keys())[0]\n",
    "data = list(f[a_group_key])\n",
    "vol_sz = np.shape(data)\n",
    "fullvol = np.zeros(vol_sz)\n",
    "\n",
    "for i in range(0,720):\n",
    "    data1 = np.where(data[i] > 0, 1, 0)\n",
    "    fullvol[i,:,:] = data1\n",
    "\n",
    "print('Finished with axons')\n",
    "\n",
    "\n",
    "## vessels\n",
    "#a_group_key = list(f.keys())[2]\n",
    "#data = list(f[a_group_key])\n",
    "#vol_sz = np.shape(data)\n",
    "#for i in range(0,720):\n",
    "#    data1 = np.where(data[i] > 0, 2, 0)\n",
    "#    fullvol[i,:,:] = fullvol[i,:,:] + data1\n",
    "\n",
    "#print('Finished with vessels')\n",
    "\n",
    "# cells\n",
    "a_group_key = list(f.keys())[3]\n",
    "data = list(f[a_group_key])\n",
    "for i in range(0,720):\n",
    "    data1 = np.where(data[i] > 0, 3, 0)\n",
    "    fullvol[i,:,:] = fullvol[i,:,:] + data1\n",
    "\n",
    "print('Finished with cells')\n",
    "\n",
    "# background\n",
    "a_group_key = list(f.keys())[1]\n",
    "data = list(f[a_group_key])\n",
    "for i in range(0,720):\n",
    "    data1 = np.where(data[i] > 0, 4, 0)\n",
    "    fullvol[i,:,:] = fullvol[i,:,:] + data1\n",
    "\n",
    "print('Finished with background')\n"
   ]
  },
  {
   "cell_type": "code",
   "execution_count": 3,
   "metadata": {
    "collapsed": true
   },
   "outputs": [],
   "source": [
    "#del data \n",
    "#del data1 \n",
    "#del f\n",
    "#np.unique(fullvol)\n",
    "import scipy\n",
    "dsz = 4\n",
    "fullvol2 = np.uint8(np.zeros( [vol_sz[0]//dsz, vol_sz[1]//dsz, vol_sz[2]//dsz]))\n",
    "count=0\n",
    "for i in range(0,720,dsz):\n",
    "    fullvol2[count,:,:] = scipy.misc.imresize(np.squeeze(fullvol[i,:,:]), int(100//dsz) , interp='nearest')\n",
    "    count += 1                                         \n",
    "                                   "
   ]
  },
  {
   "cell_type": "code",
   "execution_count": 4,
   "metadata": {},
   "outputs": [
    {
     "data": {
      "text/plain": [
       "<matplotlib.image.AxesImage at 0x248274cba8>"
      ]
     },
     "execution_count": 4,
     "metadata": {},
     "output_type": "execute_result"
    },
    {
     "data": {
      "image/png": "[encoded data removed]",
      "text/plain": [
       "<matplotlib.figure.Figure at 0x25d85fe278>"
      ]
     },
     "metadata": {},
     "output_type": "display_data"
    }
   ],
   "source": [
    "%matplotlib inline\n",
    "import matplotlib.pyplot as plt\n",
    "import matplotlib.image as mpimg\n",
    "#plt.imshow(scipy.misc.imresize(np.squeeze(fullvol[200,:,:]), 50, interp='nearest'))\n",
    "plt.imshow(fullvol2[111,:,:])"
   ]
  },
  {
   "cell_type": "code",
   "execution_count": 5,
   "metadata": {
    "collapsed": true
   },
   "outputs": [],
   "source": [
    "fullvol2 = np.uint8(fullvol2)\n",
    "blankvol = np.uint8(np.zeros(np.shape(fullvol2)))"
   ]
  },
  {
   "cell_type": "code",
   "execution_count": 6,
   "metadata": {
    "collapsed": true
   },
   "outputs": [],
   "source": [
    "import imageio\n",
    "\n",
    "#fullvol = np.uint8(fullvol)\n",
    "#for i in range(0,int(720//dsz)):\n",
    "for i in range(30,111):\n",
    "    imageio.imwrite('fullvol_outtiffs/VS0172_segmented_outputs_' + str(i) + '.tiff', np.squeeze(fullvol2[i,:,:]))\n",
    "    imageio.imwrite('blankvol_outtiffs/VS0172_blank_vol_' + str(i) + '.tiff', np.squeeze(blankvol[i,:,:]))"
   ]
  },
  {
   "cell_type": "code",
   "execution_count": 91,
   "metadata": {
    "collapsed": true
   },
   "outputs": [],
   "source": [
    "# write blank nrrd file\n",
    "#nrrd.write('VS0172_blankvol.nrrd',blankvol)\n",
    "\n",
    "# write fullvol nrrd file\n",
    "#nrrd.write('VS0172_fullvol_axon_cell_vessels.nrrd',fullvol2)"
   ]
  },
  {
   "cell_type": "code",
   "execution_count": null,
   "metadata": {
    "collapsed": true
   },
   "outputs": [],
   "source": []
  }
 ],
 "metadata": {
  "kernelspec": {
   "display_name": "Python 3",
   "language": "python",
   "name": "python3"
  },
  "language_info": {
   "codemirror_mode": {
    "name": "ipython",
    "version": 3
   },
   "file_extension": ".py",
   "mimetype": "text/x-python",
   "name": "python",
   "nbconvert_exporter": "python",
   "pygments_lexer": "ipython3",
   "version": "3.6.2"
  }
 },
 "nbformat": 4,
 "nbformat_minor": 2
}
